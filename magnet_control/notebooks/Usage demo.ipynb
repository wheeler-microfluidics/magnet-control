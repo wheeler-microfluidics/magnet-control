{
 "metadata": {
  "name": "",
  "signature": "sha256:a4675d3e1fca915721bf27d08ea68057fd4df4ab0c58b2937fdf61db5c59ecf9"
 },
 "nbformat": 3,
 "nbformat_minor": 0,
 "worksheets": [
  {
   "cells": [
    {
     "cell_type": "code",
     "collapsed": false,
     "input": [
      "from collections import OrderedDict\n",
      "import sys\n",
      "import base_node_rpc.node as bn\n",
      "sys.path.insert(0, '../..')\n",
      "import magnet_control as mc\n",
      "from nadamq.NadaMq import cPacket, cPacketParser, PACKET_TYPES, PACKET_NAME_BY_TYPE\n",
      "from nanopb_helpers import dump_message\n",
      "from serial import Serial\n",
      "import pandas as pd\n",
      "import numpy as np"
     ],
     "language": "python",
     "metadata": {},
     "outputs": [],
     "prompt_number": 1
    },
    {
     "cell_type": "markdown",
     "metadata": {},
     "source": [
      "--------------------------------------------------"
     ]
    },
    {
     "cell_type": "heading",
     "level": 2,
     "metadata": {},
     "source": [
      "Connect to device"
     ]
    },
    {
     "cell_type": "code",
     "collapsed": false,
     "input": [
      "import time\n",
      "# serial_device = Serial('/dev/ttyUSB0', baudrate=115200)\n",
      "serial_device = Serial('/dev/ttyUSB2', baudrate=115200)\n",
      "# serial_device = Serial('/dev/ttyACM0', baudrate=115200)\n",
      "proxy = mc.Proxy(serial_device)\n",
      "\n",
      "retry_count = 5\n",
      "for i in range(retry_count):\n",
      "    try:\n",
      "        properties = proxy.properties()\n",
      "    except IOError:\n",
      "        if i >= retry_count - 1:\n",
      "            raise\n",
      "print properties"
     ],
     "language": "python",
     "metadata": {},
     "outputs": [
      {
       "output_type": "stream",
       "stream": "stdout",
       "text": [
        "base_node_software_version                                                 0.11\n",
        "name                                                              magnet_control\n",
        "manufacturer                                                        Wheeler Lab\n",
        "url                           http://github.com/wheeler-microfluidics/servo-...\n",
        "software_version                                                            0.1\n",
        "dtype: object\n"
       ]
      }
     ],
     "prompt_number": 14
    },
    {
     "cell_type": "code",
     "collapsed": false,
     "input": [
      "print '%(serial_number)03d' % {'serial_number': 3}"
     ],
     "language": "python",
     "metadata": {},
     "outputs": [
      {
       "output_type": "stream",
       "stream": "stdout",
       "text": [
        "003\n"
       ]
      }
     ],
     "prompt_number": 17
    },
    {
     "cell_type": "code",
     "collapsed": false,
     "input": [
      "properties.to_dict()"
     ],
     "language": "python",
     "metadata": {},
     "outputs": [
      {
       "metadata": {},
       "output_type": "pyout",
       "prompt_number": 16,
       "text": [
        "{'base_node_software_version': '0.11',\n",
        " 'manufacturer': 'Wheeler Lab',\n",
        " 'name': 'magnet_control',\n",
        " 'software_version': '0.1',\n",
        " 'url': 'http://github.com/wheeler-microfluidics/magnet-control.git'}"
       ]
      }
     ],
     "prompt_number": 16
    },
    {
     "cell_type": "code",
     "collapsed": false,
     "input": [
      "properties['name']"
     ],
     "language": "python",
     "metadata": {},
     "outputs": [
      {
       "metadata": {},
       "output_type": "pyout",
       "prompt_number": 15,
       "text": [
        "'magnet_control'"
       ]
      }
     ],
     "prompt_number": 15
    },
    {
     "cell_type": "code",
     "collapsed": false,
     "input": [
      "import datetime as dt"
     ],
     "language": "python",
     "metadata": {},
     "outputs": [],
     "prompt_number": 9
    },
    {
     "cell_type": "code",
     "collapsed": false,
     "input": [
      "dt.timedeltakkkkkkkkkkkkkkkkkk"
     ],
     "language": "python",
     "metadata": {},
     "outputs": [
      {
       "metadata": {},
       "output_type": "pyout",
       "prompt_number": 11,
       "text": [
        "datetime.timedelta"
       ]
      }
     ],
     "prompt_number": 11
    },
    {
     "cell_type": "markdown",
     "metadata": {},
     "source": [
      "--------------------------------------------------"
     ]
    },
    {
     "cell_type": "heading",
     "level": 2,
     "metadata": {},
     "source": [
      "Dump initial configuration and motor state"
     ]
    },
    {
     "cell_type": "code",
     "collapsed": false,
     "input": [
      "config = mc.Config.FromString(proxy.serialize_config().tostring())\n",
      "print dump_message(config)"
     ],
     "language": "python",
     "metadata": {},
     "outputs": [
      {
       "output_type": "stream",
       "stream": "stdout",
       "text": [
        "    baud_rate: 115200\n",
        "serial_number: 0\n",
        "  i2c_address: 0\n"
       ]
      }
     ],
     "prompt_number": 110
    },
    {
     "cell_type": "code",
     "collapsed": false,
     "input": [
      "proxy.servo_attach(9)"
     ],
     "language": "python",
     "metadata": {},
     "outputs": [],
     "prompt_number": 15
    },
    {
     "cell_type": "code",
     "collapsed": false,
     "input": [
      "proxy.servo_write(110)"
     ],
     "language": "python",
     "metadata": {},
     "outputs": [],
     "prompt_number": 16
    },
    {
     "cell_type": "code",
     "collapsed": false,
     "input": [
      "proxy.servo_write(75)"
     ],
     "language": "python",
     "metadata": {},
     "outputs": [],
     "prompt_number": 17
    },
    {
     "cell_type": "code",
     "collapsed": false,
     "input": [
      "from IPython.html.widgets import interactive"
     ],
     "language": "python",
     "metadata": {},
     "outputs": [],
     "prompt_number": 18
    },
    {
     "cell_type": "code",
     "collapsed": false,
     "input": [
      "def set_state(state=False):\n",
      "    if state:\n",
      "        proxy.servo_write(75)\n",
      "    else:\n",
      "        proxy.servo_write(103)\n",
      "        \n",
      "\n",
      "interactive(set_state)"
     ],
     "language": "python",
     "metadata": {},
     "outputs": [],
     "prompt_number": 24
    },
    {
     "cell_type": "code",
     "collapsed": false,
     "input": [
      "serial_device.baudrate"
     ],
     "language": "python",
     "metadata": {},
     "outputs": [
      {
       "metadata": {},
       "output_type": "pyout",
       "prompt_number": 12,
       "text": [
        "115200"
       ]
      }
     ],
     "prompt_number": 12
    },
    {
     "cell_type": "code",
     "collapsed": false,
     "input": [
      "serial_device.close()"
     ],
     "language": "python",
     "metadata": {},
     "outputs": []
    },
    {
     "cell_type": "code",
     "collapsed": false,
     "input": [],
     "language": "python",
     "metadata": {},
     "outputs": [
      {
       "metadata": {},
       "output_type": "pyout",
       "prompt_number": 22,
       "text": [
        "base_node_software_version                                                 0.11\n",
        "name                                                              magnet_control\n",
        "manufacturer                                                        Wheeler Lab\n",
        "url                           http://github.com/wheeler-microfluidics/servo-...\n",
        "software_version                                                            0.1\n",
        "dtype: object"
       ]
      }
     ],
     "prompt_number": 22
    },
    {
     "cell_type": "markdown",
     "metadata": {},
     "source": [
      "--------------------------------------------------"
     ]
    },
    {
     "cell_type": "heading",
     "level": 2,
     "metadata": {},
     "source": [
      "Basic interfacing"
     ]
    },
    {
     "cell_type": "code",
     "collapsed": false,
     "input": [
      "# Set several motor attributes at once using `update_state` method.\n",
      "proxy.update_state(motor_delay_us=int(1e3), motor_enabled=True, motor_pulse_us=20)"
     ],
     "language": "python",
     "metadata": {},
     "outputs": [
      {
       "metadata": {},
       "output_type": "pyout",
       "prompt_number": 5,
       "text": [
        "1"
       ]
      }
     ],
     "prompt_number": 5
    },
    {
     "cell_type": "code",
     "collapsed": false,
     "input": [
      "# Reset current motor position as position 0.\n",
      "proxy.motor_set_home()"
     ],
     "language": "python",
     "metadata": {},
     "outputs": [],
     "prompt_number": 6
    },
    {
     "cell_type": "code",
     "collapsed": false,
     "input": [
      "# Query current motor position.\n",
      "proxy.position()"
     ],
     "language": "python",
     "metadata": {},
     "outputs": [
      {
       "metadata": {},
       "output_type": "pyout",
       "prompt_number": 7,
       "text": [
        "0"
       ]
      }
     ],
     "prompt_number": 7
    },
    {
     "cell_type": "code",
     "collapsed": false,
     "input": [
      "# Set motor speed (steps per second).\n",
      "proxy.motor_set_speed(1000)"
     ],
     "language": "python",
     "metadata": {},
     "outputs": [],
     "prompt_number": 8
    },
    {
     "cell_type": "code",
     "collapsed": false,
     "input": [
      "# Set target position to half turn (assuming 200 steps/revolution motor).\n",
      "proxy.set_target_position(100)"
     ],
     "language": "python",
     "metadata": {},
     "outputs": [],
     "prompt_number": 9
    },
    {
     "cell_type": "code",
     "collapsed": false,
     "input": [
      "# Set target position origin.\n",
      "proxy.set_target_position(0)"
     ],
     "language": "python",
     "metadata": {},
     "outputs": [],
     "prompt_number": 10
    },
    {
     "cell_type": "code",
     "collapsed": false,
     "input": [
      "# Move steps relative to current position.\n",
      "# Positive values are clockwise, negative counter-clockwise.\n",
      "proxy.move(-1)"
     ],
     "language": "python",
     "metadata": {},
     "outputs": [],
     "prompt_number": 11
    },
    {
     "cell_type": "code",
     "collapsed": false,
     "input": [
      "# If the motor is enabled, start moving the motor at 20 steps per second.\n",
      "proxy.motor_start(-400)"
     ],
     "language": "python",
     "metadata": {},
     "outputs": [],
     "prompt_number": 12
    },
    {
     "cell_type": "code",
     "collapsed": false,
     "input": [
      "# Stop the motor (but do not disable it).\n",
      "proxy.motor_stop()"
     ],
     "language": "python",
     "metadata": {},
     "outputs": [],
     "prompt_number": 13
    },
    {
     "cell_type": "markdown",
     "metadata": {},
     "source": [
      "--------------------------------------------------"
     ]
    },
    {
     "cell_type": "heading",
     "level": 1,
     "metadata": {},
     "source": [
      "Interactive control"
     ]
    },
    {
     "cell_type": "code",
     "collapsed": false,
     "input": [
      "from IPython.html.widgets import interactive\n",
      "\n",
      "\n",
      "def update_motor(position=0, speed=1000, enabled=False, microstep_mode='full'):\n",
      "    if enabled:\n",
      "        # Change microstep setting (STEP_SETTINGS.(full,half,quarter,eighth,sixteeth)\n",
      "        proxy.set_MS(*getattr(STEP_SETTINGS, microstep_mode).values)\n",
      "        # Set motor speed (steps per second).\n",
      "        proxy.motor_set_speed(speed)\n",
      "        proxy.update_state(motor_enabled=True)\n",
      "        proxy.set_target_position(position)\n",
      "    else:\n",
      "        proxy.update_state(motor_enabled=False)\n",
      "\n",
      "    \n",
      "interactive(update_motor, position=(-400, 400), speed=(200, 1600),\n",
      "            microstep_mode=('full', 'half', 'quarter', 'eighth', 'sixteenth'))"
     ],
     "language": "python",
     "metadata": {},
     "outputs": [],
     "prompt_number": 14
    }
   ],
   "metadata": {}
  }
 ]
}